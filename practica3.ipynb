{
 "cells": [
  {
   "cell_type": "markdown",
   "metadata": {},
   "source": [
    "Práctica 3 - Estadísticas descriptivas"
   ]
  },
  {
   "cell_type": "code",
   "execution_count": 6,
   "metadata": {},
   "outputs": [
    {
     "name": "stdout",
     "output_type": "stream",
     "text": [
      "Column Names: ['title', 'company', 'salary', 'rating', 'review_count', 'types', 'location', 'relative_time', 'hires_needed', 'hires_needed_exact', 'urgently_hiring', 'remote_work_model', 'snippet', 'dradis_job', 'link', 'new_job', 'job_link', 'sponsored', 'featured_employer', 'indeed_applyable', 'ad_id', 'remote_location', 'source_id', 'hiring_event_job', 'indeed_apply_enabled', 'job_location_postal', 'company_overview_link', 'activity_date', 'location_extras']\n"
     ]
    }
   ],
   "source": [
    "import pandas as pd\n",
    "from IPython.display import display, Markdown\n",
    "\n",
    "# crear dataframe\n",
    "df = pd.read_csv('us-software-engineer-jobs-zenrows.csv')\n",
    "\n",
    "columns_list = df.columns.tolist()\n",
    "\n",
    "# Columnas del dataframe\n",
    "print(\"Column Names:\", columns_list)"
   ]
  },
  {
   "cell_type": "code",
   "execution_count": 9,
   "metadata": {},
   "outputs": [
    {
     "name": "stdout",
     "output_type": "stream",
     "text": [
      "                    company  rating\n",
      "6292       ​Markesman Group     5.0\n",
      "4803    Seraphic Group, Inc     5.0\n",
      "3007    Kalven Technologies     5.0\n",
      "4806          Serry Systems     5.0\n",
      "5878         Vexterra Group     5.0\n",
      "3002                 Kajabi     5.0\n",
      "3000          Kaizen Health     5.0\n",
      "2996  KaRDS Cyber Solutions     5.0\n",
      "2985                  KLap6     5.0\n",
      "5877                 VetsEZ     5.0\n"
     ]
    }
   ],
   "source": [
    "filtered_df = df[df['rating'] != 0]\n",
    "\n",
    "company_avg_rating = filtered_df.groupby('company')['rating'].mean().reset_index()\n",
    "\n",
    "top_10_companies = company_avg_rating.sort_values(by='rating', ascending=False).head(10)\n",
    "\n",
    "print(top_10_companies)"
   ]
  },
  {
   "cell_type": "markdown",
   "metadata": {},
   "source": [
    "Esto no es igual de util, empresas pequeñas reciben menos ratings y por lo tanto tienen mejores puntuaciónes, podemos corregir esto tomando en cuenta la cantidad de reviews (haciendo uso de un threshold)"
   ]
  },
  {
   "cell_type": "code",
   "execution_count": 14,
   "metadata": {},
   "outputs": [
    {
     "name": "stdout",
     "output_type": "stream",
     "text": [
      "                 company  mean  count\n",
      "4698          Salesforce   4.3    432\n",
      "2750              Indeed   4.3   1166\n",
      "3491           Microsoft   4.2    353\n",
      "5038              Splunk   4.2    341\n",
      "5776  VMware Engineering   4.1    491\n",
      "2052            Facebook   4.1    210\n",
      "5775              VMware   4.1    629\n",
      "135            Accenture   4.0    371\n",
      "629               BOEING   4.0    222\n",
      "1082         Capital One   3.9   1063\n"
     ]
    }
   ],
   "source": [
    "company_avg_and_count = filtered_df.groupby('company')['rating'].agg(['mean', 'count']).reset_index()\n",
    "\n",
    "# contar con al menos 200 reviews para figurar en el top 10 empresas\n",
    "threshold = 200\n",
    "\n",
    "company_avg_and_count = company_avg_and_count[company_avg_and_count['count'] >= threshold]\n",
    "\n",
    "top_10_companies = company_avg_and_count.sort_values(by='mean', ascending=False).head(10)\n",
    "\n",
    "print(top_10_companies)"
   ]
  },
  {
   "cell_type": "code",
   "execution_count": 16,
   "metadata": {},
   "outputs": [
    {
     "name": "stdout",
     "output_type": "stream",
     "text": [
      "location\n",
      "Remote               6730\n",
      "New York, NY         2529\n",
      "San Francisco, CA    1996\n",
      "Austin, TX           1971\n",
      "Boston, MA           1300\n",
      "Seattle, WA          1175\n",
      "Chicago, IL          1126\n",
      "Atlanta, GA          1023\n",
      "San Jose, CA          988\n",
      "Washington, DC        691\n",
      "Name: count, dtype: int64\n"
     ]
    }
   ],
   "source": [
    "top_locations = df['location'].value_counts().head(10)\n",
    "print(top_locations)"
   ]
  },
  {
   "cell_type": "code",
   "execution_count": 18,
   "metadata": {},
   "outputs": [
    {
     "name": "stdout",
     "output_type": "stream",
     "text": [
      "                              company  urgently_hiring\n",
      "1570   Buddy Web Design & Development              345\n",
      "9886                      Underdog.io              106\n",
      "2384                     Confidential               78\n",
      "8463          SilverStone Talent, LLC               70\n",
      "1384              BlueInGreen Digital               64\n",
      "7963             Robotic Research LLC               63\n",
      "7345                 Prime Trust, LLC               58\n",
      "3983              Genesys Impact, LLC               57\n",
      "1217                         Bellhops               57\n",
      "4352  Health Data Analytics Institute               56\n"
     ]
    }
   ],
   "source": [
    "urgently_hiring_counts = df.groupby('company')['urgently_hiring'].sum().reset_index()\n",
    "\n",
    "urgently_hiring_counts = urgently_hiring_counts.sort_values(by='urgently_hiring', ascending=False)\n",
    "\n",
    "top_10_urgently_hiring = urgently_hiring_counts.head(10)\n",
    "\n",
    "print(top_10_urgently_hiring)"
   ]
  }
 ],
 "metadata": {
  "kernelspec": {
   "display_name": "Python 3",
   "language": "python",
   "name": "python3"
  },
  "language_info": {
   "codemirror_mode": {
    "name": "ipython",
    "version": 3
   },
   "file_extension": ".py",
   "mimetype": "text/x-python",
   "name": "python",
   "nbconvert_exporter": "python",
   "pygments_lexer": "ipython3",
   "version": "3.11.2"
  }
 },
 "nbformat": 4,
 "nbformat_minor": 2
}
