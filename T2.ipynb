{
 "cells": [
  {
   "cell_type": "markdown",
   "metadata": {},
   "source": [
    "Práctica 2 - Limpieza de datos"
   ]
  },
  {
   "cell_type": "code",
   "execution_count": 7,
   "metadata": {},
   "outputs": [
    {
     "data": {
      "text/markdown": [
       " |  title                                                    |  company                        |  salary                      | \n",
       " | :-------------------------------------------------------- | :------------------------------ | :--------------------------- | \n",
       " |  Web Developer                                            |  Denios, Inc.                   |  $45,000 - $55,000 a year    | \n",
       " |  Real-Time, Embedded Software Engineer                    |  Checkmate Partners             |  $100,000 - $200,000 a year  | \n",
       " |  Software Engineer (Clearance Required)                   |  LOCKHEED MARTIN CORPORATION    |  $3,000 a week               | \n",
       " |  Cyber Security Operation Center Manager (SOC)            |  Goliath Solutions Group        |  $15 - $20 an hour           | \n",
       " |  DevOps Engineer - Very Profitable Start-up               |  TechTalent NW                  |  $125,000 - $170,000 a year  | \n",
       " |  Lead Software/Java Engineer                              |  Bectran                        |  $90,000 - $130,000 a year   | \n",
       " |  Senior Software Engineer                                 |  College Auto Sales of Florida  |  $105,271 - $126,000 a year  | \n",
       " |  Solutions Engineer, Software                             |  Liberty Mutual Insurance       |  $128,200 - $177,600 a year  | \n",
       " |  Real-Time, Embedded Software Engineer                    |  Checkmate Partners             |  $100,000 - $200,000 a year  | \n",
       " |  Software Engineer - Production Support - CCE - Mulesoft  |  Salesforce                     |  $121,800 a year             | "
      ],
      "text/plain": [
       "<IPython.core.display.Markdown object>"
      ]
     },
     "metadata": {},
     "output_type": "display_data"
    }
   ],
   "source": [
    "import pandas as pd\n",
    "from IPython.display import display, Markdown\n",
    "\n",
    "df = pd.read_csv('us-software-engineer-jobs-zenrows.csv')\n",
    "\n",
    "# Filtrar trabajos donde el salario es null\n",
    "df = df.dropna(subset=['salary'])\n",
    "\n",
    "# Seleccionar titulo del trabajo, compañia, y salario\n",
    "selected_columns = ['title', 'company', 'salary']\n",
    "\n",
    "df_jobs = df[selected_columns]\n",
    "\n",
    "# Mostrar las primeras filas sin formato con:\n",
    "# df_jobs.head()\n",
    "# Alternativamente, agregamos un formato de recuadros para facilitar lectura\n",
    "\n",
    "# Requisito: pip install tabulate\n",
    "# Mostrar primeras 20 filas\n",
    "display(Markdown(df_jobs.head(10).to_markdown(index=False, tablefmt=\"pipe\", headers=\"keys\").replace(\"|\", \" | \")))"
   ]
  },
  {
   "cell_type": "code",
   "execution_count": 9,
   "metadata": {},
   "outputs": [
    {
     "data": {
      "text/markdown": [
       " |  title                                                    |  company                        |  salary                      | \n",
       " | :-------------------------------------------------------- | :------------------------------ | :--------------------------- | \n",
       " |  Web Developer                                            |  Denios, Inc.                   |  $45,000 - $55,000 a year    | \n",
       " |  Real-Time, Embedded Software Engineer                    |  Checkmate Partners             |  $100,000 - $200,000 a year  | \n",
       " |  Software Engineer (Clearance Required)                   |  LOCKHEED MARTIN CORPORATION    |  $156,000 a year             | \n",
       " |  Cyber Security Operation Center Manager (SOC)            |  Goliath Solutions Group        |  $31,200 - $41,600 a year    | \n",
       " |  DevOps Engineer - Very Profitable Start-up               |  TechTalent NW                  |  $125,000 - $170,000 a year  | \n",
       " |  Lead Software/Java Engineer                              |  Bectran                        |  $90,000 - $130,000 a year   | \n",
       " |  Senior Software Engineer                                 |  College Auto Sales of Florida  |  $105,271 - $126,000 a year  | \n",
       " |  Solutions Engineer, Software                             |  Liberty Mutual Insurance       |  $128,200 - $177,600 a year  | \n",
       " |  Real-Time, Embedded Software Engineer                    |  Checkmate Partners             |  $100,000 - $200,000 a year  | \n",
       " |  Software Engineer - Production Support - CCE - Mulesoft  |  Salesforce                     |  $121,800 a year             | "
      ],
      "text/plain": [
       "<IPython.core.display.Markdown object>"
      ]
     },
     "metadata": {},
     "output_type": "display_data"
    }
   ],
   "source": [
    "import re\n",
    "import warnings\n",
    "\n",
    "# estandariza el salario, para mantener el formato de salario anual\n",
    "def standardize_salary(salary):\n",
    "\n",
    "    range_pattern = r'\\$([\\d,]+)[^\\d]+\\$([\\d,]+)[^\\d]+(an? hour|a week|a year)'\n",
    "    base_pattern = r'\\$([\\d,]+)[^\\d]+(an? hour)'\n",
    "    week_pattern = r'\\$([\\d,]+)[^\\d]+(a week)'\n",
    "    year_pattern = r'\\$([\\d,]+)[^\\d]+\\$([\\d,]+)[^\\d]+(a year)'\n",
    "\n",
    "    annual_low, annual_high = None, None\n",
    "\n",
    "    if re.match(range_pattern, salary):\n",
    "        match = re.match(range_pattern, salary)\n",
    "        low = int(match.group(1).replace(',', ''))\n",
    "        high = int(match.group(2).replace(',', ''))\n",
    "        unit = match.group(3)\n",
    "        if unit == \"a week\":\n",
    "            annual_low = low * 52\n",
    "            annual_high = high * 52\n",
    "        elif unit == \"an hour\":\n",
    "            annual_low = low * 40 * 52  \n",
    "            annual_high = high * 40 * 52\n",
    "    elif re.match(base_pattern, salary):\n",
    "        match = re.match(base_pattern, salary)\n",
    "        hourly = int(match.group(1).replace(',', ''))\n",
    "        annual_low = hourly * 40 * 52  \n",
    "        annual_high = None  \n",
    "    elif re.match(week_pattern, salary):\n",
    "        match = re.match(week_pattern, salary)\n",
    "        weekly = int(match.group(1).replace(',', ''))\n",
    "        annual_low = weekly * 52\n",
    "        annual_high = None  \n",
    "    elif re.match(year_pattern, salary):\n",
    "        return salary  \n",
    "    else:\n",
    "        return salary  \n",
    "\n",
    "    if annual_low is not None and annual_high is not None:\n",
    "        return f\"${annual_low:,} - ${annual_high:,} a year\"\n",
    "    elif annual_low is not None:\n",
    "        return f\"${annual_low:,} a year\"\n",
    "    else:\n",
    "        return salary\n",
    "\n",
    "df_jobs['salary'] = df_jobs['salary'].apply(standardize_salary)\n",
    "\n",
    "display(Markdown(df_jobs.head(10).to_markdown(index=False, tablefmt=\"pipe\", headers=\"keys\").replace(\"|\", \" | \")))\n"
   ]
  }
 ],
 "metadata": {
  "kernelspec": {
   "display_name": "Python 3",
   "language": "python",
   "name": "python3"
  },
  "language_info": {
   "codemirror_mode": {
    "name": "ipython",
    "version": 3
   },
   "file_extension": ".py",
   "mimetype": "text/x-python",
   "name": "python",
   "nbconvert_exporter": "python",
   "pygments_lexer": "ipython3",
   "version": "3.11.2"
  }
 },
 "nbformat": 4,
 "nbformat_minor": 2
}
