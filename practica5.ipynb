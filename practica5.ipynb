{
 "cells": [
  {
   "cell_type": "markdown",
   "metadata": {},
   "source": [
    "Práctica 5 - ANOVA"
   ]
  },
  {
   "cell_type": "code",
   "execution_count": 1,
   "metadata": {},
   "outputs": [],
   "source": [
    "import pandas as pd\n",
    "\n",
    "# Creamos el dataframe\n",
    "df = pd.read_csv('China_Tech_HK.csv')"
   ]
  },
  {
   "cell_type": "code",
   "execution_count": 2,
   "metadata": {},
   "outputs": [
    {
     "name": "stdout",
     "output_type": "stream",
     "text": [
      "ANOVA Results:\n",
      "F-Statistic: 2735.118947072327\n",
      "P-Value: 0.0\n",
      "Las medias de al menos dos grupos son significativamente diferentes\n"
     ]
    }
   ],
   "source": [
    "from scipy.stats import f_oneway\n",
    "\n",
    "# 'close' es mi variable de interes\n",
    "grouped_data = [group['close'] for name, group in df.groupby('ts_code')]\n",
    "\n",
    "# Realizar ANOVA oneway\n",
    "f_statistic, p_value = f_oneway(*grouped_data)\n",
    "\n",
    "# Imprimiendo los resultados\n",
    "print(\"ANOVA Results:\")\n",
    "print(\"F-Statistic:\", f_statistic)\n",
    "print(\"P-Value:\", p_value)\n",
    "\n",
    "# Interpretando los resultados\n",
    "if p_value < 0.05:\n",
    "    print(\"Las medias de al menos dos grupos son significativamente diferentes\")\n",
    "else:\n",
    "    print(\"No hay diferencia significativa en las medias de los grupos\")\n"
   ]
  }
 ],
 "metadata": {
  "kernelspec": {
   "display_name": "Python 3",
   "language": "python",
   "name": "python3"
  },
  "language_info": {
   "codemirror_mode": {
    "name": "ipython",
    "version": 3
   },
   "file_extension": ".py",
   "mimetype": "text/x-python",
   "name": "python",
   "nbconvert_exporter": "python",
   "pygments_lexer": "ipython3",
   "version": "3.11.2"
  }
 },
 "nbformat": 4,
 "nbformat_minor": 2
}
